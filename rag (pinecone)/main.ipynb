{
 "cells": [
  {
   "cell_type": "markdown",
   "metadata": {},
   "source": [
    "Load and Process Documents"
   ]
  },
  {
   "cell_type": "code",
   "execution_count": null,
   "metadata": {
    "vscode": {
     "languageId": "plaintext"
    }
   },
   "outputs": [],
   "source": [
    "import os\n",
    "from dotenv import load_dotenv\n",
    "from langchain.text_splitter import RecursiveCharacterTextSplitter\n",
    "from openai import Embedding\n",
    "import pinecone\n",
    "\n",
    "load_dotenv()\n",
    "\n",
    "openai_api_key = os.getenv(\"OPENAI_API_KEY\")\n",
    "\n",
    "# Initialize Pinecone\n",
    "pinecone.init(\n",
    "    api_key=os.getenv(\"PINECONE_API_KEY\"),\n",
    "    environment=os.getenv(\"PINECONE_ENVIRONMENT\")\n",
    ")\n",
    "\n",
    "# Pinecone index name\n",
    "index_name = \"business-qa-bot\"\n",
    "\n",
    "# Load your documents (example: FAQ or business-related content)\n",
    "documents = [\n",
    "    \"The company's working hours are 9 AM to 5 PM.\",\n",
    "    \"We offer a 30-day return policy for all products.\",\n",
    "    \"Customer support is available 24/7 via chat and email.\"\n",
    "]\n",
    "\n",
    "# if it is any document like pdf \n",
    "#from langchain_community.document_loaders import PyPDFLoader\n",
    "#loader=PyPDFLoader('attention.pdf')\n",
    "#docs=loader.load()\n",
    "\n",
    "# Split documents into smaller chunks\n",
    "text_splitter = RecursiveCharacterTextSplitter(chunk_size=500, chunk_overlap=50)\n",
    "chunks = text_splitter.create_documents(documents)\n",
    "\n",
    "# Initialize Pinecone index\n",
    "if index_name not in pinecone.list_indexes():\n",
    "    pinecone.create_index(index_name, dimension=1536)  # 1536 is the embedding size for OpenAI\n",
    "index = pinecone.Index(index_name)"
   ]
  },
  {
   "cell_type": "markdown",
   "metadata": {},
   "source": [
    "Generate Embeddings and Store in Pinecone"
   ]
  },
  {
   "cell_type": "code",
   "execution_count": null,
   "metadata": {
    "vscode": {
     "languageId": "plaintext"
    }
   },
   "outputs": [],
   "source": [
    "from openai.embeddings_utils import get_embedding\n",
    "\n",
    "# Generate embeddings for each chunk and upload to Pinecone\n",
    "for i, chunk in enumerate(chunks):\n",
    "    embedding = get_embedding(chunk.page_content, engine=\"text-embedding-ada-002\")\n",
    "    index.upsert([(str(i), embedding, {\"text\": chunk.page_content})])\n"
   ]
  },
  {
   "cell_type": "markdown",
   "metadata": {},
   "source": [
    "Query Processing and Retrieval"
   ]
  },
  {
   "cell_type": "code",
   "execution_count": null,
   "metadata": {
    "vscode": {
     "languageId": "plaintext"
    }
   },
   "outputs": [],
   "source": [
    "def query_pinecone(query):\n",
    "    # Generate query embedding\n",
    "    query_embedding = get_embedding(query, engine=\"text-embedding-ada-002\")\n",
    "\n",
    "    # Search Pinecone\n",
    "    results = index.query(query_embedding, top_k=5, include_metadata=True)\n",
    "\n",
    "    # Return relevant chunks\n",
    "    return [result['metadata']['text'] for result in results['matches']]\n"
   ]
  },
  {
   "cell_type": "markdown",
   "metadata": {},
   "source": [
    "Generate a Response Using OpenAI GPT"
   ]
  },
  {
   "cell_type": "code",
   "execution_count": null,
   "metadata": {
    "vscode": {
     "languageId": "plaintext"
    }
   },
   "outputs": [],
   "source": [
    "def generate_response(query, retrieved_chunks):\n",
    "    # Combine the query and retrieved context\n",
    "    context = \"\\n\".join(retrieved_chunks)\n",
    "    prompt = f\"Answer the following question based on the context below:\\n\\nContext:\\n{context}\\n\\nQuestion:\\n{query}\"\n",
    "\n",
    "    # Generate response\n",
    "    response = openai.Completion.create(\n",
    "        engine=\"text-davinci-003\",\n",
    "        prompt=prompt,\n",
    "        max_tokens=200\n",
    "    )\n",
    "\n",
    "    return response.choices[0].text.strip()\n"
   ]
  },
  {
   "cell_type": "markdown",
   "metadata": {},
   "source": [
    "Main Function for QA Chatbot "
   ]
  },
  {
   "cell_type": "code",
   "execution_count": null,
   "metadata": {
    "vscode": {
     "languageId": "plaintext"
    }
   },
   "outputs": [],
   "source": [
    "def chatbot():\n",
    "    print(\"Welcome to the Business QA Bot! Type 'exit' to quit.\")\n",
    "    while True:\n",
    "        query = input(\"\\nYou: \")\n",
    "        if query.lower() == \"exit\":\n",
    "            print(\"Goodbye!\")\n",
    "            break\n",
    "\n",
    "        try:\n",
    "            # Retrieve relevant chunks\n",
    "            retrieved_chunks = query_pinecone(query)\n",
    "\n",
    "            # Generate and display response\n",
    "            response = generate_response(query, retrieved_chunks)\n",
    "            print(f\"\\nBot: {response}\")\n",
    "        except Exception as e:\n",
    "            print(f\"\\nBot: An error occurred: {e}\")\n",
    "\n",
    "\n",
    "    \n"
   ]
  },
  {
   "cell_type": "code",
   "execution_count": null,
   "metadata": {
    "vscode": {
     "languageId": "plaintext"
    }
   },
   "outputs": [],
   "source": [
    "chatbot()"
   ]
  }
 ],
 "metadata": {
  "language_info": {
   "name": "python"
  }
 },
 "nbformat": 4,
 "nbformat_minor": 2
}
